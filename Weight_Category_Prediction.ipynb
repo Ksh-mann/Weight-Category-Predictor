{
  "nbformat": 4,
  "nbformat_minor": 0,
  "metadata": {
    "colab": {
      "provenance": []
    },
    "kernelspec": {
      "name": "python3",
      "display_name": "Python 3"
    },
    "language_info": {
      "name": "python"
    }
  },
  "cells": [
    {
      "cell_type": "code",
      "execution_count": 1,
      "metadata": {
        "id": "2CkDxqJsdmmB"
      },
      "outputs": [],
      "source": [
        "import numpy as np\n",
        "import pandas as pd\n",
        "from sklearn.preprocessing import StandardScaler\n",
        "from sklearn.ensemble import RandomForestClassifier\n",
        "from sklearn.model_selection import GridSearchCV, train_test_split\n",
        "from sklearn.metrics import classification_report, confusion_matrix, accuracy_score"
      ]
    },
    {
      "cell_type": "code",
      "source": [
        "data = pd.read_csv('GHW_Index2.csv')"
      ],
      "metadata": {
        "id": "o0Nu-Lq-dtMC"
      },
      "execution_count": 3,
      "outputs": []
    },
    {
      "cell_type": "code",
      "source": [
        "# Function to map index numbers to category names\n",
        "def map_indices_to_categories(ind):\n",
        "    index_to_category = {\n",
        "        0: 'Extremely Weak',\n",
        "        1: 'Weak',\n",
        "        2: 'Normal',\n",
        "        3: 'Overweight',\n",
        "        4: 'Obesity',\n",
        "        5: 'Extremely Obese'\n",
        "    }\n",
        "    return index_to_category[ind]"
      ],
      "metadata": {
        "id": "_AshDOgbeJJJ"
      },
      "execution_count": 4,
      "outputs": []
    },
    {
      "cell_type": "code",
      "source": [
        "# Apply mapping to 'Index' column\n",
        "data['Index'] = data['Index'].apply(map_indices_to_categories)"
      ],
      "metadata": {
        "id": "4xEdxauMeSCI"
      },
      "execution_count": 5,
      "outputs": []
    },
    {
      "cell_type": "code",
      "source": [
        "# Get value counts for 'Gender' and 'Index' columns\n",
        "gender_counts = data['Gender'].value_counts()\n",
        "index_counts = data['Index'].value_counts()"
      ],
      "metadata": {
        "id": "v72c4vpXeUeI"
      },
      "execution_count": 6,
      "outputs": []
    },
    {
      "cell_type": "code",
      "source": [
        "# Create dummy variables for 'Gender'\n",
        "gender_dummies = pd.get_dummies(data['Gender'])\n",
        "data.drop('Gender', axis=1, inplace=True)\n",
        "data = pd.concat([data, gender_dummies], axis=1)"
      ],
      "metadata": {
        "id": "MXrjfuqMoXE_"
      },
      "execution_count": 7,
      "outputs": []
    },
    {
      "cell_type": "code",
      "source": [
        "# Separate target variable and features\n",
        "y = data['Index']\n",
        "X = data.drop(['Index'], axis=1)"
      ],
      "metadata": {
        "id": "22vcILbsoXJK"
      },
      "execution_count": 8,
      "outputs": []
    },
    {
      "cell_type": "code",
      "source": [
        "# Standardize features using StandardScaler\n",
        "scaler = StandardScaler()\n",
        "X_scaled = scaler.fit_transform(X)\n",
        "X_scaled = pd.DataFrame(X_scaled)"
      ],
      "metadata": {
        "id": "tSziYVf5oaNY"
      },
      "execution_count": 9,
      "outputs": []
    },
    {
      "cell_type": "code",
      "source": [
        "# Split data into training and testing sets\n",
        "X_train, X_test, y_train, y_test = train_test_split(X_scaled, y, test_size=0.3, random_state=101)"
      ],
      "metadata": {
        "id": "aJyZeWG8ocBn"
      },
      "execution_count": 10,
      "outputs": []
    },
    {
      "cell_type": "code",
      "source": [
        "# Define parameter grid for hyperparameter tuning\n",
        "param_grid = {'n_estimators': [100, 200, 300, 400, 500, 600, 700, 800, 1000]}"
      ],
      "metadata": {
        "id": "1qHccJGBof3l"
      },
      "execution_count": 12,
      "outputs": []
    },
    {
      "cell_type": "code",
      "source": [
        "# Perform GridSearchCV for hyperparameter tuning\n",
        "grid_cv = GridSearchCV(RandomForestClassifier(random_state=101), param_grid, verbose=3)\n",
        "grid_cv.fit(X_train, y_train)"
      ],
      "metadata": {
        "colab": {
          "base_uri": "https://localhost:8080/",
          "height": 916
        },
        "id": "rIN4sM3aog7Y",
        "outputId": "d07e2083-69a2-4e4b-c465-d1b315fbbf9a"
      },
      "execution_count": 13,
      "outputs": [
        {
          "output_type": "stream",
          "name": "stdout",
          "text": [
            "Fitting 5 folds for each of 9 candidates, totalling 45 fits\n",
            "[CV 1/5] END ..................n_estimators=100;, score=0.850 total time=   0.3s\n",
            "[CV 2/5] END ..................n_estimators=100;, score=0.832 total time=   0.2s\n",
            "[CV 3/5] END ..................n_estimators=100;, score=0.832 total time=   0.2s\n",
            "[CV 4/5] END ..................n_estimators=100;, score=0.836 total time=   0.2s\n",
            "[CV 5/5] END ..................n_estimators=100;, score=0.850 total time=   0.2s\n",
            "[CV 1/5] END ..................n_estimators=200;, score=0.857 total time=   0.5s\n",
            "[CV 2/5] END ..................n_estimators=200;, score=0.821 total time=   0.6s\n",
            "[CV 3/5] END ..................n_estimators=200;, score=0.825 total time=   1.4s\n",
            "[CV 4/5] END ..................n_estimators=200;, score=0.829 total time=   0.7s\n",
            "[CV 5/5] END ..................n_estimators=200;, score=0.839 total time=   0.6s\n",
            "[CV 1/5] END ..................n_estimators=300;, score=0.854 total time=   0.7s\n",
            "[CV 2/5] END ..................n_estimators=300;, score=0.829 total time=   0.7s\n",
            "[CV 3/5] END ..................n_estimators=300;, score=0.829 total time=   0.7s\n",
            "[CV 4/5] END ..................n_estimators=300;, score=0.836 total time=   0.9s\n",
            "[CV 5/5] END ..................n_estimators=300;, score=0.850 total time=   1.2s\n",
            "[CV 1/5] END ..................n_estimators=400;, score=0.854 total time=   1.0s\n",
            "[CV 2/5] END ..................n_estimators=400;, score=0.825 total time=   0.9s\n",
            "[CV 3/5] END ..................n_estimators=400;, score=0.832 total time=   0.9s\n",
            "[CV 4/5] END ..................n_estimators=400;, score=0.832 total time=   0.9s\n",
            "[CV 5/5] END ..................n_estimators=400;, score=0.846 total time=   0.9s\n",
            "[CV 1/5] END ..................n_estimators=500;, score=0.854 total time=   1.4s\n",
            "[CV 2/5] END ..................n_estimators=500;, score=0.825 total time=   1.8s\n",
            "[CV 3/5] END ..................n_estimators=500;, score=0.836 total time=   1.3s\n",
            "[CV 4/5] END ..................n_estimators=500;, score=0.832 total time=   1.2s\n",
            "[CV 5/5] END ..................n_estimators=500;, score=0.846 total time=   1.1s\n",
            "[CV 1/5] END ..................n_estimators=600;, score=0.854 total time=   1.4s\n",
            "[CV 2/5] END ..................n_estimators=600;, score=0.829 total time=   1.4s\n",
            "[CV 3/5] END ..................n_estimators=600;, score=0.836 total time=   1.4s\n",
            "[CV 4/5] END ..................n_estimators=600;, score=0.836 total time=   1.4s\n",
            "[CV 5/5] END ..................n_estimators=600;, score=0.846 total time=   1.5s\n",
            "[CV 1/5] END ..................n_estimators=700;, score=0.854 total time=   2.5s\n",
            "[CV 2/5] END ..................n_estimators=700;, score=0.829 total time=   1.6s\n",
            "[CV 3/5] END ..................n_estimators=700;, score=0.836 total time=   1.6s\n",
            "[CV 4/5] END ..................n_estimators=700;, score=0.832 total time=   1.6s\n",
            "[CV 5/5] END ..................n_estimators=700;, score=0.846 total time=   1.6s\n",
            "[CV 1/5] END ..................n_estimators=800;, score=0.854 total time=   1.8s\n",
            "[CV 2/5] END ..................n_estimators=800;, score=0.821 total time=   1.9s\n",
            "[CV 3/5] END ..................n_estimators=800;, score=0.839 total time=   2.8s\n",
            "[CV 4/5] END ..................n_estimators=800;, score=0.832 total time=   1.8s\n",
            "[CV 5/5] END ..................n_estimators=800;, score=0.843 total time=   1.8s\n",
            "[CV 1/5] END .................n_estimators=1000;, score=0.854 total time=   2.3s\n",
            "[CV 2/5] END .................n_estimators=1000;, score=0.829 total time=   2.3s\n",
            "[CV 3/5] END .................n_estimators=1000;, score=0.843 total time=   2.8s\n",
            "[CV 4/5] END .................n_estimators=1000;, score=0.832 total time=   4.0s\n",
            "[CV 5/5] END .................n_estimators=1000;, score=0.843 total time=   2.3s\n"
          ]
        },
        {
          "output_type": "execute_result",
          "data": {
            "text/plain": [
              "GridSearchCV(estimator=RandomForestClassifier(random_state=101),\n",
              "             param_grid={'n_estimators': [100, 200, 300, 400, 500, 600, 700,\n",
              "                                          800, 1000]},\n",
              "             verbose=3)"
            ],
            "text/html": [
              "<style>#sk-container-id-1 {color: black;background-color: white;}#sk-container-id-1 pre{padding: 0;}#sk-container-id-1 div.sk-toggleable {background-color: white;}#sk-container-id-1 label.sk-toggleable__label {cursor: pointer;display: block;width: 100%;margin-bottom: 0;padding: 0.3em;box-sizing: border-box;text-align: center;}#sk-container-id-1 label.sk-toggleable__label-arrow:before {content: \"▸\";float: left;margin-right: 0.25em;color: #696969;}#sk-container-id-1 label.sk-toggleable__label-arrow:hover:before {color: black;}#sk-container-id-1 div.sk-estimator:hover label.sk-toggleable__label-arrow:before {color: black;}#sk-container-id-1 div.sk-toggleable__content {max-height: 0;max-width: 0;overflow: hidden;text-align: left;background-color: #f0f8ff;}#sk-container-id-1 div.sk-toggleable__content pre {margin: 0.2em;color: black;border-radius: 0.25em;background-color: #f0f8ff;}#sk-container-id-1 input.sk-toggleable__control:checked~div.sk-toggleable__content {max-height: 200px;max-width: 100%;overflow: auto;}#sk-container-id-1 input.sk-toggleable__control:checked~label.sk-toggleable__label-arrow:before {content: \"▾\";}#sk-container-id-1 div.sk-estimator input.sk-toggleable__control:checked~label.sk-toggleable__label {background-color: #d4ebff;}#sk-container-id-1 div.sk-label input.sk-toggleable__control:checked~label.sk-toggleable__label {background-color: #d4ebff;}#sk-container-id-1 input.sk-hidden--visually {border: 0;clip: rect(1px 1px 1px 1px);clip: rect(1px, 1px, 1px, 1px);height: 1px;margin: -1px;overflow: hidden;padding: 0;position: absolute;width: 1px;}#sk-container-id-1 div.sk-estimator {font-family: monospace;background-color: #f0f8ff;border: 1px dotted black;border-radius: 0.25em;box-sizing: border-box;margin-bottom: 0.5em;}#sk-container-id-1 div.sk-estimator:hover {background-color: #d4ebff;}#sk-container-id-1 div.sk-parallel-item::after {content: \"\";width: 100%;border-bottom: 1px solid gray;flex-grow: 1;}#sk-container-id-1 div.sk-label:hover label.sk-toggleable__label {background-color: #d4ebff;}#sk-container-id-1 div.sk-serial::before {content: \"\";position: absolute;border-left: 1px solid gray;box-sizing: border-box;top: 0;bottom: 0;left: 50%;z-index: 0;}#sk-container-id-1 div.sk-serial {display: flex;flex-direction: column;align-items: center;background-color: white;padding-right: 0.2em;padding-left: 0.2em;position: relative;}#sk-container-id-1 div.sk-item {position: relative;z-index: 1;}#sk-container-id-1 div.sk-parallel {display: flex;align-items: stretch;justify-content: center;background-color: white;position: relative;}#sk-container-id-1 div.sk-item::before, #sk-container-id-1 div.sk-parallel-item::before {content: \"\";position: absolute;border-left: 1px solid gray;box-sizing: border-box;top: 0;bottom: 0;left: 50%;z-index: -1;}#sk-container-id-1 div.sk-parallel-item {display: flex;flex-direction: column;z-index: 1;position: relative;background-color: white;}#sk-container-id-1 div.sk-parallel-item:first-child::after {align-self: flex-end;width: 50%;}#sk-container-id-1 div.sk-parallel-item:last-child::after {align-self: flex-start;width: 50%;}#sk-container-id-1 div.sk-parallel-item:only-child::after {width: 0;}#sk-container-id-1 div.sk-dashed-wrapped {border: 1px dashed gray;margin: 0 0.4em 0.5em 0.4em;box-sizing: border-box;padding-bottom: 0.4em;background-color: white;}#sk-container-id-1 div.sk-label label {font-family: monospace;font-weight: bold;display: inline-block;line-height: 1.2em;}#sk-container-id-1 div.sk-label-container {text-align: center;}#sk-container-id-1 div.sk-container {/* jupyter's `normalize.less` sets `[hidden] { display: none; }` but bootstrap.min.css set `[hidden] { display: none !important; }` so we also need the `!important` here to be able to override the default hidden behavior on the sphinx rendered scikit-learn.org. See: https://github.com/scikit-learn/scikit-learn/issues/21755 */display: inline-block !important;position: relative;}#sk-container-id-1 div.sk-text-repr-fallback {display: none;}</style><div id=\"sk-container-id-1\" class=\"sk-top-container\"><div class=\"sk-text-repr-fallback\"><pre>GridSearchCV(estimator=RandomForestClassifier(random_state=101),\n",
              "             param_grid={&#x27;n_estimators&#x27;: [100, 200, 300, 400, 500, 600, 700,\n",
              "                                          800, 1000]},\n",
              "             verbose=3)</pre><b>In a Jupyter environment, please rerun this cell to show the HTML representation or trust the notebook. <br />On GitHub, the HTML representation is unable to render, please try loading this page with nbviewer.org.</b></div><div class=\"sk-container\" hidden><div class=\"sk-item sk-dashed-wrapped\"><div class=\"sk-label-container\"><div class=\"sk-label sk-toggleable\"><input class=\"sk-toggleable__control sk-hidden--visually\" id=\"sk-estimator-id-1\" type=\"checkbox\" ><label for=\"sk-estimator-id-1\" class=\"sk-toggleable__label sk-toggleable__label-arrow\">GridSearchCV</label><div class=\"sk-toggleable__content\"><pre>GridSearchCV(estimator=RandomForestClassifier(random_state=101),\n",
              "             param_grid={&#x27;n_estimators&#x27;: [100, 200, 300, 400, 500, 600, 700,\n",
              "                                          800, 1000]},\n",
              "             verbose=3)</pre></div></div></div><div class=\"sk-parallel\"><div class=\"sk-parallel-item\"><div class=\"sk-item\"><div class=\"sk-label-container\"><div class=\"sk-label sk-toggleable\"><input class=\"sk-toggleable__control sk-hidden--visually\" id=\"sk-estimator-id-2\" type=\"checkbox\" ><label for=\"sk-estimator-id-2\" class=\"sk-toggleable__label sk-toggleable__label-arrow\">estimator: RandomForestClassifier</label><div class=\"sk-toggleable__content\"><pre>RandomForestClassifier(random_state=101)</pre></div></div></div><div class=\"sk-serial\"><div class=\"sk-item\"><div class=\"sk-estimator sk-toggleable\"><input class=\"sk-toggleable__control sk-hidden--visually\" id=\"sk-estimator-id-3\" type=\"checkbox\" ><label for=\"sk-estimator-id-3\" class=\"sk-toggleable__label sk-toggleable__label-arrow\">RandomForestClassifier</label><div class=\"sk-toggleable__content\"><pre>RandomForestClassifier(random_state=101)</pre></div></div></div></div></div></div></div></div></div></div>"
            ]
          },
          "metadata": {},
          "execution_count": 13
        }
      ]
    },
    {
      "cell_type": "code",
      "source": [
        "# Display the best parameters obtained from grid search\n",
        "print(\"Best Parameters:\", grid_cv.best_params_)"
      ],
      "metadata": {
        "colab": {
          "base_uri": "https://localhost:8080/"
        },
        "id": "X9ian1q7ok4c",
        "outputId": "4c808987-8f37-4e82-d53f-5e14cf91c863"
      },
      "execution_count": 14,
      "outputs": [
        {
          "output_type": "stream",
          "name": "stdout",
          "text": [
            "Best Parameters: {'n_estimators': 100}\n"
          ]
        }
      ]
    },
    {
      "cell_type": "code",
      "source": [
        "# Predict weight categories on the test set\n",
        "y_pred = grid_cv.predict(X_test)"
      ],
      "metadata": {
        "id": "Lrlxlnvbo1MB"
      },
      "execution_count": 17,
      "outputs": []
    },
    {
      "cell_type": "code",
      "source": [
        "# Evaluate model performance\n",
        "print(\"Classification Report:\\n\", classification_report(y_test, y_pred))\n",
        "print(\"Confusion Matrix:\\n\", confusion_matrix(y_test, y_pred))\n",
        "print(\"Accuracy:\", accuracy_score(y_test, y_pred) * 100)"
      ],
      "metadata": {
        "colab": {
          "base_uri": "https://localhost:8080/"
        },
        "id": "psmlkzPKpEkz",
        "outputId": "060ef29f-4ca1-41d8-9c72-ef85bb4eb4a1"
      },
      "execution_count": 18,
      "outputs": [
        {
          "output_type": "stream",
          "name": "stdout",
          "text": [
            "Classification Report:\n",
            "                  precision    recall  f1-score   support\n",
            "\n",
            "Extremely Obese       0.93      0.90      0.92       241\n",
            " Extremely Weak       1.00      0.59      0.74        17\n",
            "         Normal       0.81      0.88      0.84        85\n",
            "        Obesity       0.78      0.81      0.80       155\n",
            "     Overweight       0.80      0.73      0.76        82\n",
            "           Weak       0.62      0.80      0.70        20\n",
            "\n",
            "       accuracy                           0.84       600\n",
            "      macro avg       0.82      0.79      0.79       600\n",
            "   weighted avg       0.85      0.84      0.84       600\n",
            "\n",
            "Confusion Matrix:\n",
            " [[218   0   0  23   0   0]\n",
            " [  0  10   1   0   0   6]\n",
            " [  0   0  75   2   4   4]\n",
            " [ 17   0   1 126  11   0]\n",
            " [  0   0  12  10  60   0]\n",
            " [  0   0   4   0   0  16]]\n",
            "Accuracy: 84.16666666666667\n"
          ]
        }
      ]
    },
    {
      "cell_type": "code",
      "source": [
        "# Function to predict weight category for live input\n",
        "def predict_weight_category(details):\n",
        "    gender = details[0]\n",
        "    height = details[1]\n",
        "    weight = details[2]\n",
        "\n",
        "    if gender == 'Male':\n",
        "        input_data = np.array([[np.float(height), np.float(weight), 0.0, 1.0]])\n",
        "    elif gender == 'Female':\n",
        "        input_data = np.array([[np.float(height), np.float(weight), 1.0, 0.0]])\n",
        "\n",
        "    y_pred = grid_cv.predict(scaler.transform(input_data))\n",
        "    return y_pred[0]"
      ],
      "metadata": {
        "id": "rVhTtTrupSVT"
      },
      "execution_count": 19,
      "outputs": []
    },
    {
      "cell_type": "code",
      "source": [
        "# Live predictor example\n",
        "your_details = ['Female', 178, 85]\n",
        "print(\"Predicted Weight Category:\", predict_weight_category(your_details))"
      ],
      "metadata": {
        "colab": {
          "base_uri": "https://localhost:8080/"
        },
        "id": "tlhCoyZjpUMr",
        "outputId": "d3b68562-6267-4be8-da75-2f453c2b42e8"
      },
      "execution_count": 23,
      "outputs": [
        {
          "output_type": "stream",
          "name": "stdout",
          "text": [
            "Predicted Weight Category: Overweight\n"
          ]
        },
        {
          "output_type": "stream",
          "name": "stderr",
          "text": [
            "<ipython-input-19-abf6f2d1a0d6>:10: DeprecationWarning: `np.float` is a deprecated alias for the builtin `float`. To silence this warning, use `float` by itself. Doing this will not modify any behavior and is safe. If you specifically wanted the numpy scalar type, use `np.float64` here.\n",
            "Deprecated in NumPy 1.20; for more details and guidance: https://numpy.org/devdocs/release/1.20.0-notes.html#deprecations\n",
            "  input_data = np.array([[np.float(height), np.float(weight), 1.0, 0.0]])\n",
            "/usr/local/lib/python3.10/dist-packages/sklearn/base.py:439: UserWarning: X does not have valid feature names, but StandardScaler was fitted with feature names\n",
            "  warnings.warn(\n"
          ]
        }
      ]
    }
  ]
}